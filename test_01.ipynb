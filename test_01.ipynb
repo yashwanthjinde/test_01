{
 "cells": [
  {
   "cell_type": "code",
   "execution_count": 4,
   "metadata": {},
   "outputs": [
    {
     "name": "stdout",
     "output_type": "stream",
     "text": [
      "enter any string11222333666\n",
      "enter any sub sting22\n",
      "1\n"
     ]
    }
   ],
   "source": [
    "def freq(s,sub):\n",
    "    if sub in s:\n",
    "        print(s.count(sub))\n",
    "    else:\n",
    "        print('sub string is not in s')\n",
    "def main():\n",
    "    \n",
    "    s=input('enter any string')\n",
    "    sub=input('enter any sub sting')\n",
    "    \n",
    "    freq(s,sub)\n",
    "main()"
   ]
  },
  {
   "cell_type": "code",
   "execution_count": null,
   "metadata": {},
   "outputs": [],
   "source": [
    "problem 1"
   ]
  },
  {
   "cell_type": "code",
   "execution_count": 61,
   "metadata": {},
   "outputs": [
    {
     "name": "stdout",
     "output_type": "stream",
     "text": [
      "nonPrimeFactorsCount(100) 2\n",
      "nonPrimeFactorsCount(50) 1\n"
     ]
    }
   ],
   "source": [
    "def prob1(a):\n",
    "    k = []\n",
    "    f =[]\n",
    "    for i in range (1,a):\n",
    "        factor = a%i\n",
    "        if factor == 0:\n",
    "            k.append(i)\n",
    "    k.append(a)\n",
    "    zerono = []\n",
    "    for i in range(0,len(k)):\n",
    "\n",
    "        r = k[i]%10\n",
    "        if r ==0:\n",
    "            zerono.append(k[i])\n",
    "\n",
    "    for i in range(0,len(k)):\n",
    "        fact = k[i]\n",
    "        if fact == 1:\n",
    "            f.append(fact)\n",
    "        elif fact == 2:\n",
    "            f.append(fact)\n",
    "        else:\n",
    "            number = []\n",
    "            for i in range(2,fact):\n",
    "                r =  fact%i\n",
    "                number.append(r)\n",
    "            for i in range(0,len(number)):\n",
    "                b = number[i]\n",
    "                if b == 0:\n",
    "                    break\n",
    "                else:\n",
    "                    if i+2 > len(number):\n",
    "\n",
    "                        f.append(fact)\n",
    "    count = len(k) -len(f)\n",
    "\n",
    "    \n",
    "    count = len(k) -len(f) - len(zerono)\n",
    "    print  (\"nonPrimeFactorsCount(%d)\" %(a), count)\n",
    "\n",
    "prob1(100)\n",
    "prob1(50)\n",
    "            "
   ]
  },
  {
   "cell_type": "code",
   "execution_count": null,
   "metadata": {},
   "outputs": [],
   "source": [
    "problem 2"
   ]
  }
 ],
 "metadata": {
  "kernelspec": {
   "display_name": "Python 3",
   "language": "python",
   "name": "python3"
  },
  "language_info": {
   "codemirror_mode": {
    "name": "ipython",
    "version": 3
   },
   "file_extension": ".py",
   "mimetype": "text/x-python",
   "name": "python",
   "nbconvert_exporter": "python",
   "pygments_lexer": "ipython3",
   "version": "3.7.3"
  }
 },
 "nbformat": 4,
 "nbformat_minor": 2
}
